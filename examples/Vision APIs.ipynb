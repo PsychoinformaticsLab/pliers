{
 "cells": [
  {
   "cell_type": "markdown",
   "metadata": {
    "deletable": true,
    "editable": true
   },
   "source": [
    "Comparing Vision APIs\n",
    "============\n",
    "This notebook features the various computer vision APIs that pliers interfaces with. These include the Google Vision, Clarifai, and Indico APIs. To compare their perfomance, image recognition features are extracted from an image of an apple."
   ]
  },
  {
   "cell_type": "code",
   "execution_count": 1,
   "metadata": {
    "collapsed": false,
    "deletable": true,
    "editable": true
   },
   "outputs": [],
   "source": [
    "from pliers.tests.utils import get_test_data_path\n",
    "from os.path import join\n",
    "from pliers.extractors import (ClarifaiAPIImageExtractor, IndicoAPIImageExtractor, GoogleVisionAPILabelExtractor)\n",
    "from pliers.stimuli.image import ImageStim\n",
    "from pliers.graph import Graph"
   ]
  },
  {
   "cell_type": "code",
   "execution_count": 2,
   "metadata": {
    "collapsed": false,
    "deletable": true,
    "editable": true
   },
   "outputs": [],
   "source": [
    "# Load the stimulus\n",
    "stim_path = join(get_test_data_path(), 'image', 'apple.jpg')\n",
    "stim = ImageStim(stim_path)"
   ]
  },
  {
   "cell_type": "code",
   "execution_count": 14,
   "metadata": {
    "collapsed": false,
    "deletable": true,
    "editable": true
   },
   "outputs": [
    {
     "name": "stderr",
     "output_type": "stream",
     "text": [
      "WARNING:googleapiclient.discovery_cache:No module named locked_file\n",
      "Traceback (most recent call last):\n",
      "  File \"/Library/Python/2.7/site-packages/googleapiclient/discovery_cache/__init__.py\", line 41, in autodetect\n",
      "    from . import file_cache\n",
      "  File \"/Library/Python/2.7/site-packages/googleapiclient/discovery_cache/file_cache.py\", line 36, in <module>\n",
      "    from oauth2client.locked_file import LockedFile\n",
      "ImportError: No module named locked_file\n"
     ]
    }
   ],
   "source": [
    "# Configure extractions\n",
    "clarifai_ext = ClarifaiAPIImageExtractor()\n",
    "indico_ext = IndicoAPIImageExtractor(models=['image_recognition'])\n",
    "google_ext = GoogleVisionAPILabelExtractor()"
   ]
  },
  {
   "cell_type": "code",
   "execution_count": 15,
   "metadata": {
    "collapsed": true
   },
   "outputs": [],
   "source": [
    "# Run extractions\n",
    "clarifai_res = clarifai_ext.transform(stim)\n",
    "indico_res = indico_ext.transform(stim)\n",
    "google_res = google_ext.transform(stim)"
   ]
  },
  {
   "cell_type": "code",
   "execution_count": 11,
   "metadata": {
    "collapsed": false,
    "deletable": true,
    "editable": true
   },
   "outputs": [
    {
     "data": {
      "text/html": [
       "<div>\n",
       "<table border=\"1\" class=\"dataframe\">\n",
       "  <thead>\n",
       "    <tr style=\"text-align: right;\">\n",
       "      <th></th>\n",
       "      <th>onset</th>\n",
       "      <th>duration</th>\n",
       "      <th>apple</th>\n",
       "      <th>fruit</th>\n",
       "      <th>food</th>\n",
       "      <th>juicy</th>\n",
       "      <th>confection</th>\n",
       "      <th>health</th>\n",
       "      <th>delicious</th>\n",
       "      <th>no person</th>\n",
       "      <th>...</th>\n",
       "      <th>diet</th>\n",
       "      <th>agriculture</th>\n",
       "      <th>juice</th>\n",
       "      <th>isolated</th>\n",
       "      <th>sweet</th>\n",
       "      <th>freshness</th>\n",
       "      <th>vitamin</th>\n",
       "      <th>tasty</th>\n",
       "      <th>shining</th>\n",
       "      <th>color</th>\n",
       "    </tr>\n",
       "  </thead>\n",
       "  <tbody>\n",
       "    <tr>\n",
       "      <th>0</th>\n",
       "      <td>NaN</td>\n",
       "      <td>NaN</td>\n",
       "      <td>0.997886</td>\n",
       "      <td>0.992864</td>\n",
       "      <td>0.989317</td>\n",
       "      <td>0.981853</td>\n",
       "      <td>0.969632</td>\n",
       "      <td>0.966955</td>\n",
       "      <td>0.962412</td>\n",
       "      <td>0.960222</td>\n",
       "      <td>...</td>\n",
       "      <td>0.952635</td>\n",
       "      <td>0.950934</td>\n",
       "      <td>0.932082</td>\n",
       "      <td>0.904409</td>\n",
       "      <td>0.901952</td>\n",
       "      <td>0.901597</td>\n",
       "      <td>0.878773</td>\n",
       "      <td>0.876409</td>\n",
       "      <td>0.874465</td>\n",
       "      <td>0.861764</td>\n",
       "    </tr>\n",
       "  </tbody>\n",
       "</table>\n",
       "<p>1 rows × 22 columns</p>\n",
       "</div>"
      ],
      "text/plain": [
       "   onset  duration     apple     fruit      food     juicy  confection  \\\n",
       "0    NaN       NaN  0.997886  0.992864  0.989317  0.981853    0.969632   \n",
       "\n",
       "     health  delicious  no person    ...         diet  agriculture     juice  \\\n",
       "0  0.966955   0.962412   0.960222    ...     0.952635     0.950934  0.932082   \n",
       "\n",
       "   isolated     sweet  freshness   vitamin     tasty   shining     color  \n",
       "0  0.904409  0.901952   0.901597  0.878773  0.876409  0.874465  0.861764  \n",
       "\n",
       "[1 rows x 22 columns]"
      ]
     },
     "execution_count": 11,
     "metadata": {},
     "output_type": "execute_result"
    }
   ],
   "source": [
    "clarifai_res.to_df()"
   ]
  },
  {
   "cell_type": "code",
   "execution_count": 32,
   "metadata": {
    "collapsed": false
   },
   "outputs": [
    {
     "data": {
      "text/html": [
       "<div>\n",
       "<table border=\"1\" class=\"dataframe\">\n",
       "  <thead>\n",
       "    <tr style=\"text-align: right;\">\n",
       "      <th></th>\n",
       "      <th>image_recognition_pomegranate</th>\n",
       "    </tr>\n",
       "  </thead>\n",
       "  <tbody>\n",
       "    <tr>\n",
       "      <th>0</th>\n",
       "      <td>0.843756</td>\n",
       "    </tr>\n",
       "  </tbody>\n",
       "</table>\n",
       "</div>"
      ],
      "text/plain": [
       "   image_recognition_pomegranate\n",
       "0                       0.843756"
      ]
     },
     "execution_count": 32,
     "metadata": {},
     "output_type": "execute_result"
    }
   ],
   "source": [
    "df = indico_res.to_df()\n",
    "df.loc[:, df.sum() > 0.5]"
   ]
  },
  {
   "cell_type": "code",
   "execution_count": 13,
   "metadata": {
    "collapsed": false
   },
   "outputs": [
    {
     "data": {
      "text/html": [
       "<div>\n",
       "<table border=\"1\" class=\"dataframe\">\n",
       "  <thead>\n",
       "    <tr style=\"text-align: right;\">\n",
       "      <th></th>\n",
       "      <th>onset</th>\n",
       "      <th>duration</th>\n",
       "      <th>apple</th>\n",
       "      <th>food</th>\n",
       "      <th>fruit</th>\n",
       "      <th>produce</th>\n",
       "      <th>plant</th>\n",
       "      <th>rose family</th>\n",
       "      <th>land plant</th>\n",
       "      <th>flowering plant</th>\n",
       "      <th>rose order</th>\n",
       "      <th>manzana verde</th>\n",
       "    </tr>\n",
       "  </thead>\n",
       "  <tbody>\n",
       "    <tr>\n",
       "      <th>0</th>\n",
       "      <td>None</td>\n",
       "      <td>None</td>\n",
       "      <td>0.948273</td>\n",
       "      <td>0.937953</td>\n",
       "      <td>0.917061</td>\n",
       "      <td>0.89393</td>\n",
       "      <td>0.883235</td>\n",
       "      <td>0.791557</td>\n",
       "      <td>0.760017</td>\n",
       "      <td>0.72544</td>\n",
       "      <td>0.587203</td>\n",
       "      <td>0.529798</td>\n",
       "    </tr>\n",
       "  </tbody>\n",
       "</table>\n",
       "</div>"
      ],
      "text/plain": [
       "  onset duration     apple      food     fruit  produce     plant  \\\n",
       "0  None     None  0.948273  0.937953  0.917061  0.89393  0.883235   \n",
       "\n",
       "   rose family  land plant  flowering plant  rose order  manzana verde  \n",
       "0     0.791557    0.760017          0.72544    0.587203       0.529798  "
      ]
     },
     "execution_count": 13,
     "metadata": {},
     "output_type": "execute_result"
    }
   ],
   "source": [
    "google_res.to_df()"
   ]
  },
  {
   "cell_type": "markdown",
   "metadata": {},
   "source": [
    "Summary\n",
    "--------\n",
    "For the apple image, it is clear that the Google and Clarifai APIs perform best, as both have \"apple\", \"food\", and \"fruit\" in the top features. On the other hand, the only Indico API feature with a probability over 0.5 is \"pomegranate\". Furthermore, the Google API seems to also be less noisy than the Clarifai API, where several object labels have probabilities over 0.9."
   ]
  },
  {
   "cell_type": "code",
   "execution_count": null,
   "metadata": {
    "collapsed": true
   },
   "outputs": [],
   "source": []
  }
 ],
 "metadata": {
  "kernelspec": {
   "display_name": "Python 2",
   "language": "python",
   "name": "python2"
  },
  "language_info": {
   "codemirror_mode": {
    "name": "ipython",
    "version": 2
   },
   "file_extension": ".py",
   "mimetype": "text/x-python",
   "name": "python",
   "nbconvert_exporter": "python",
   "pygments_lexer": "ipython2",
   "version": "2.7.12"
  }
 },
 "nbformat": 4,
 "nbformat_minor": 0
}
